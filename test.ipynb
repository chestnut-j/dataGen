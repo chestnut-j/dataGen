{
 "cells": [
  {
   "cell_type": "code",
   "execution_count": 14,
   "metadata": {},
   "outputs": [],
   "source": [
    "from z3 import *\n",
    "import random\n",
    "\n",
    "# 指定长度为20的list\n",
    "n = 20\n",
    "my_list = [random.randint(1, 100) for i in range(n)]\n",
    "print(my_list)\n",
    "# 创建一个长度为n的整数列表\n",
    "s = Solver()\n",
    "z3_list = [Int(f\"z3_list_{i}\") for i in range(n)]\n",
    "\n",
    "# 将列表中的每个元素限制在指定list中\n",
    "for i in range(n):\n",
    "    s.add(Or([z3_list[i] == x for x in my_list]))\n",
    "\n",
    "# 将列表分成三个簇\n",
    "k = n // 3  # 簇的大小\n",
    "for i in range(k):\n",
    "    # 第一簇元素之和小于50\n",
    "    s.add(Sum([If(z3_list[j] == my_list[i], my_list[i], 0) for j in range(n)]) <= 50)\n",
    "    # 第二簇元素之和在51到100之间\n",
    "    s.add(And(Sum([If(z3_list[j] == my_list[i+k], my_list[i+k], 0) for j in range(n)]) >= 51,\n",
    "             Sum([If(z3_list[j] == my_list[i+k], my_list[i+k], 0) for j in range(n)]) <= 100))\n",
    "    # 第三簇元素之和大于100\n",
    "    s.add(Sum([If(z3_list[j] == my_list[i+2*k], my_list[i+2*k], 0) for j in range(n)]) >= 100)\n",
    "\n",
    "# 检查是否存在解\n",
    "if s.check() == sat:\n",
    "    # 如果存在解，打印出符合约束条件的list\n",
    "    m = s.model()\n",
    "    result = [m.evaluate(elem) for elem in z3_list]\n",
    "    print(result)\n",
    "else:\n",
    "    # 如果不存在解，则说明无法满足条件\n",
    "    print(\"无解\")\n"
   ]
  }
 ],
 "metadata": {
  "kernelspec": {
   "display_name": "Python 3.7.7 64-bit",
   "language": "python",
   "name": "python3"
  },
  "language_info": {
   "codemirror_mode": {
    "name": "ipython",
    "version": 3
   },
   "file_extension": ".py",
   "mimetype": "text/x-python",
   "name": "python",
   "nbconvert_exporter": "python",
   "pygments_lexer": "ipython3",
   "version": "3.7.7"
  },
  "orig_nbformat": 4,
  "vscode": {
   "interpreter": {
    "hash": "f6c3fe0f35ac205adeee3d33d4d27f45ea8735944f6bcc7cc4d72c9672a115a8"
   }
  }
 },
 "nbformat": 4,
 "nbformat_minor": 2
}
